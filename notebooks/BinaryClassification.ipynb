{
  "cells": [
    {
      "cell_type": "code",
      "execution_count": 76,
      "metadata": {
        "id": "7yUwxJeJ1KB7"
      },
      "outputs": [],
      "source": [
        "# Importing the dataset\n",
        "\n",
        "import numpy as np\n",
        "apple = np.load('apple.npy')\n",
        "rainbow = np.load('rainbow.npy')"
      ]
    },
    {
      "cell_type": "code",
      "execution_count": 77,
      "metadata": {
        "id": "MFZ4BXcjfon2"
      },
      "outputs": [],
      "source": [
        "# Preparing the dataset\n",
        "apple = np.hstack((apple, np.zeros((apple.shape[0], 1), dtype = apple.dtype)))\n",
        "rainbow = np.hstack((rainbow, np.ones((rainbow.shape[0], 1), dtype = rainbow.dtype)))\n",
        "\n",
        "data = np.concatenate((apple, rainbow))\n",
        "np.random.shuffle(data)\n",
        "X, y = data[:, : -1], data[:, -1:]"
      ]
    },
    {
      "cell_type": "code",
      "execution_count": 78,
      "metadata": {
        "id": "LwAG0KEk1VVK"
      },
      "outputs": [],
      "source": [
        "# Split data into test and train sets\n",
        "from sklearn.model_selection import train_test_split\n",
        "X_train, X_test, y_train, y_test = train_test_split(X, y, test_size = 0.05)\n"
      ]
    },
    {
      "cell_type": "code",
      "execution_count": 79,
      "metadata": {
        "id": "KTWTJtcTfq-5"
      },
      "outputs": [],
      "source": [
        "# Logistic Regression using Batch Gradient Descent\n",
        "from numpy.core.fromnumeric import transpose\n",
        "\n",
        "class LogisticRegression():\n",
        "    def __init__(self) -> None:\n",
        "        self.w = None\n",
        "        self.b = None\n",
        "\n",
        "    def sigmoid(self, z):\n",
        "        return 1.0/(1 + np.exp(-z))\n",
        "\n",
        "    def cost(self, X, y):\n",
        "        [m, n] = X.shape\n",
        "\n",
        "        y = np.array(y).reshape((m, 1))\n",
        "\n",
        "        y_hat = self.sigmoid(np.dot(X, self.w) + self.b)\n",
        "        loss = -np.mean(y*(np.log(y_hat)) + (1-y)*np.log(1-y_hat))\n",
        "        return loss\n",
        "\n",
        "\n",
        "    def gradients(self, X, y):\n",
        "        [m, n] = X.shape\n",
        "        X = np.array(X)\n",
        "        y = np.array(y).reshape((m, 1))\n",
        "        hx = self.sigmoid(np.dot(X, self.w) + self.b ) \n",
        "        db = (1/m) * np.sum(hx - y)\n",
        "        dw = (1/m) * np.dot(X.T, hx - y)\n",
        "\n",
        "        return dw, db\n",
        "\n",
        "    def fit(self, X, y, epochs = 100, lr = 0.1):\n",
        "        [m, n] = X.shape\n",
        "        self.w = np.zeros((n,1))\n",
        "        self.b = 0\n",
        "\n",
        "        # X = self.normalize(X)\n",
        "\n",
        "        cost = []\n",
        "\n",
        "        for i in range(0, epochs):\n",
        "            dw, db = self.gradients(X, y)\n",
        "            self.w -= lr * dw\n",
        "            self.b -= lr * db\n",
        "            c = self.cost(X, y)\n",
        "            cost.append(c)\n",
        "            # print(c)\n",
        "        return cost\n",
        "\n",
        "    def predict(self, X):\n",
        "        [m, n] = X.shape\n",
        "        hx = self.sigmoid((X @ self.w) + self.b)\n",
        "        pred = np.zeros((m, 1))\n",
        "        pred[np.where(hx >= 0.5)] = 1\n",
        "        return pred \n",
        "\n",
        "    def accuracy(self, y, y_hat):  \n",
        "        p = 0\n",
        "        for i in range(0,len(y)):\n",
        "            if y[i] == y_hat[i]:\n",
        "                p += 1\n",
        "        acc = p / len(y)\n",
        "        return acc * 100  \n",
        "    "
      ]
    },
    {
      "cell_type": "code",
      "execution_count": 80,
      "metadata": {
        "id": "O-Q2uplEzANi"
      },
      "outputs": [],
      "source": [
        "# Normalize data to avoid 'overflow encountered in exp' warning\n",
        "from sklearn.preprocessing import StandardScaler\n",
        "scaler = StandardScaler().fit(X_train)\n",
        "X_train = scaler.transform(X_train)\n",
        "X_test = scaler.transform(X_test)"
      ]
    },
    {
      "cell_type": "code",
      "execution_count": 81,
      "metadata": {
        "id": "EISwc4H71lWl"
      },
      "outputs": [],
      "source": [
        "# Training the model\n",
        "regressor = LogisticRegression()\n",
        "arr = regressor.fit(X_train, y_train)"
      ]
    },
    {
      "cell_type": "code",
      "execution_count": 82,
      "metadata": {
        "colab": {
          "base_uri": "https://localhost:8080/",
          "height": 283
        },
        "id": "xyprwgCqzrss",
        "outputId": "5b68fc2f-ea78-45c2-c699-47697ba54182"
      },
      "outputs": [
        {
          "data": {
            "text/plain": [
              "[<matplotlib.lines.Line2D at 0x7f4153277ad0>]"
            ]
          },
          "execution_count": 82,
          "metadata": {},
          "output_type": "execute_result"
        },
        {
          "data": {
            "image/png": "[encoded data removed]",
            "text/plain": [
              "<Figure size 432x288 with 1 Axes>"
            ]
          },
          "metadata": {
            "needs_background": "light"
          },
          "output_type": "display_data"
        }
      ],
      "source": [
        "# Plot cost at each iteration for gradient Descent\n",
        "import matplotlib.pyplot as plt\n",
        "plt.plot(arr, range(0, 100))\n"
      ]
    },
    {
      "cell_type": "code",
      "execution_count": 83,
      "metadata": {
        "colab": {
          "base_uri": "https://localhost:8080/"
        },
        "id": "y_3wVGQQlBp-",
        "outputId": "229b8d45-3561-43cf-d4c7-509feb3eed38"
      },
      "outputs": [
        {
          "data": {
            "text/plain": [
              "98.54923042933942"
            ]
          },
          "execution_count": 83,
          "metadata": {},
          "output_type": "execute_result"
        }
      ],
      "source": [
        "# Test our model and print accuracy(in %)\n",
        "pred = regressor.predict(np.array(X_test))\n",
        "accuracy = regressor.accuracy(y_test, pred)\n",
        "accuracy"
      ]
    },
    {
      "cell_type": "code",
      "execution_count": 84,
      "metadata": {
        "id": "P-lP7yaZlq63"
      },
      "outputs": [],
      "source": [
        "# Using sklearn to train model and compare with custom model\n",
        "from sklearn.linear_model import LogisticRegression\n",
        "regr = LogisticRegression()"
      ]
    },
    {
      "cell_type": "code",
      "execution_count": 85,
      "metadata": {
        "colab": {
          "base_uri": "https://localhost:8080/"
        },
        "id": "hA2I9OXn2Weo",
        "outputId": "aa32a80c-3bda-4a93-de88-ae2af49719b1"
      },
      "outputs": [
        {
          "name": "stderr",
          "output_type": "stream",
          "text": [
            "/usr/local/lib/python3.7/dist-packages/sklearn/utils/validation.py:985: DataConversionWarning: A column-vector y was passed when a 1d array was expected. Please change the shape of y to (n_samples, ), for example using ravel().\n",
            "  y = column_or_1d(y, warn=True)\n",
            "/usr/local/lib/python3.7/dist-packages/sklearn/linear_model/_logistic.py:818: ConvergenceWarning: lbfgs failed to converge (status=1):\n",
            "STOP: TOTAL NO. of ITERATIONS REACHED LIMIT.\n",
            "\n",
            "Increase the number of iterations (max_iter) or scale the data as shown in:\n",
            "    https://scikit-learn.org/stable/modules/preprocessing.html\n",
            "Please also refer to the documentation for alternative solver options:\n",
            "    https://scikit-learn.org/stable/modules/linear_model.html#logistic-regression\n",
            "  extra_warning_msg=_LOGISTIC_SOLVER_CONVERGENCE_MSG,\n"
          ]
        }
      ],
      "source": [
        "regr.fit(X_train, y_train)\n",
        "predsk = regr.predict(X_test)"
      ]
    },
    {
      "cell_type": "code",
      "execution_count": 86,
      "metadata": {
        "colab": {
          "base_uri": "https://localhost:8080/"
        },
        "id": "z8aiD1Fr2wyH",
        "outputId": "8af6a9cd-58f7-45e4-8949-fa9909fd03da"
      },
      "outputs": [
        {
          "name": "stdout",
          "output_type": "stream",
          "text": [
            "              precision    recall  f1-score   support\n",
            "\n",
            "           0       0.99      0.98      0.99      7113\n",
            "           1       0.98      0.99      0.99      6466\n",
            "\n",
            "    accuracy                           0.99     13579\n",
            "   macro avg       0.99      0.99      0.99     13579\n",
            "weighted avg       0.99      0.99      0.99     13579\n",
            "\n"
          ]
        }
      ],
      "source": [
        "from sklearn.metrics import classification_report\n",
        "print(classification_report(y_test, predsk))"
      ]
    },
    {
      "cell_type": "code",
      "execution_count": 87,
      "metadata": {
        "colab": {
          "base_uri": "https://localhost:8080/"
        },
        "id": "546jUnr_3aAl",
        "outputId": "60eb36a5-8704-4ddb-ab50-0abff52234f1"
      },
      "outputs": [
        {
          "data": {
            "text/plain": [
              "98.68178805508506"
            ]
          },
          "execution_count": 87,
          "metadata": {},
          "output_type": "execute_result"
        }
      ],
      "source": [
        "def accuracy( y, y_hat):  \n",
        "        p = 0\n",
        "        for i in range(0,len(y)):\n",
        "            if y[i] == y_hat[i]:\n",
        "                p += 1\n",
        "        acc = p / len(y)\n",
        "        return acc * 100  \n",
        "accuracy(y_test, predsk)"
      ]
    }
  ],
  "metadata": {
    "colab": {
      "name": "QuickDraw-BinaryClassification.ipynb",
      "provenance": []
    },
    "kernelspec": {
      "display_name": "Python 3",
      "name": "python3"
    },
    "language_info": {
      "name": "python",
      "version": "3.7.0"
    }
  },
  "nbformat": 4,
  "nbformat_minor": 0
}
