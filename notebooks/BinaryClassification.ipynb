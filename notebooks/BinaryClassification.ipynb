{
  "nbformat": 4,
  "nbformat_minor": 0,
  "metadata": {
    "colab": {
      "name": "BinaryClassification.ipynb",
      "provenance": [],
      "collapsed_sections": []
    },
    "kernelspec": {
      "name": "python3",
      "display_name": "Python 3"
    },
    "language_info": {
      "name": "python"
    }
  },
  "cells": [
    {
      "cell_type": "code",
      "source": [
        "# Importing the dataset\n",
        "import numpy as np\n",
        "apple = np.load('apple.npy')\n",
        "rainbow = np.load('rainbow.npy')"
      ],
      "metadata": {
        "id": "7yUwxJeJ1KB7"
      },
      "execution_count": 1,
      "outputs": []
    },
    {
      "cell_type": "code",
      "execution_count": 2,
      "metadata": {
        "id": "MFZ4BXcjfon2"
      },
      "outputs": [],
      "source": [
        "# Preparing the dataset\n",
        "apple = np.hstack((apple, np.zeros((apple.shape[0], 1), dtype = apple.dtype)))\n",
        "rainbow = np.hstack((rainbow, np.ones((rainbow.shape[0], 1), dtype = rainbow.dtype)))\n",
        "\n",
        "data = np.concatenate((apple, rainbow))\n",
        "np.random.shuffle(data)\n",
        "X, y = data[:, : -1], data[:, -1:]"
      ]
    },
    {
      "cell_type": "code",
      "source": [
        "# Split data into test and train sets\n",
        "from sklearn.model_selection import train_test_split\n",
        "X_train, X_test, y_train, y_test = train_test_split(X, y, test_size = 0.05)\n"
      ],
      "metadata": {
        "id": "LwAG0KEk1VVK"
      },
      "execution_count": 3,
      "outputs": []
    },
    {
      "cell_type": "code",
      "source": [
        "# Logistic Regression using Batch Gradient Descent\n",
        "from numpy.core.fromnumeric import transpose\n",
        "\n",
        "class LogisticRegression():\n",
        "    def __init__(self) -> None:\n",
        "        self.w = None\n",
        "        self.b = None\n",
        "\n",
        "    def sigmoid(self, z):\n",
        "        return 1.0/(1 + np.exp(-z))\n",
        "\n",
        "    def cost(self, X, y):\n",
        "        [m, n] = X.shape\n",
        "\n",
        "        y = np.array(y).reshape((m, 1))\n",
        "\n",
        "        y_hat = self.sigmoid(np.dot(X, self.w) + self.b)\n",
        "        loss = -np.mean(y*(np.log(y_hat)) + (1-y)*np.log(1-y_hat))\n",
        "        return loss\n",
        "\n",
        "\n",
        "    def gradients(self, X, y):\n",
        "        [m, n] = X.shape\n",
        "        X = np.array(X)\n",
        "        y = np.array(y).reshape((m, 1))\n",
        "        hx = self.sigmoid(np.dot(X, self.w) + self.b ) \n",
        "        db = (1/m) * np.sum(hx - y)\n",
        "        dw = (1/m) * np.dot(X.T, hx - y)\n",
        "\n",
        "        return dw, db\n",
        "\n",
        "    def fit(self, X, y, epochs = 200, lr = 0.1):\n",
        "        [m, n] = X.shape\n",
        "        self.w = np.zeros((n,1))\n",
        "        self.b = 0\n",
        "\n",
        "        cost = []\n",
        "\n",
        "        for i in range(0, epochs):\n",
        "            dw, db = self.gradients(X, y)\n",
        "            self.w -= lr * dw\n",
        "            self.b -= lr * db\n",
        "            c = self.cost(X, y)\n",
        "            cost.append(c)\n",
        "        return cost\n",
        "\n",
        "    def predict(self, X):\n",
        "        [m, n] = X.shape\n",
        "        hx = self.sigmoid((X @ self.w) + self.b)\n",
        "        pred = np.zeros((m, 1))\n",
        "        pred[np.where(hx >= 0.5)] = 1\n",
        "        return pred \n",
        "\n",
        "    def accuracy(self, y, y_hat):  \n",
        "        p = 0\n",
        "        for i in range(0,len(y)):\n",
        "            if y[i] == y_hat[i]:\n",
        "                p += 1\n",
        "        acc = p / len(y)\n",
        "        return acc * 100  \n",
        "    "
      ],
      "metadata": {
        "id": "KTWTJtcTfq-5"
      },
      "execution_count": 4,
      "outputs": []
    },
    {
      "cell_type": "code",
      "source": [
        "# Normalize data to avoid 'overflow encountered in exp' warning\n",
        "from sklearn.preprocessing import StandardScaler\n",
        "scaler = StandardScaler().fit(X_train)\n",
        "X_train = scaler.transform(X_train)\n",
        "X_test = scaler.transform(X_test)"
      ],
      "metadata": {
        "id": "O-Q2uplEzANi"
      },
      "execution_count": 5,
      "outputs": []
    },
    {
      "cell_type": "code",
      "source": [
        "# Training the model\n",
        "classifier = LogisticRegression()\n",
        "arr = classifier.fit(X_train, y_train)"
      ],
      "metadata": {
        "id": "EISwc4H71lWl"
      },
      "execution_count": 6,
      "outputs": []
    },
    {
      "cell_type": "code",
      "source": [
        "# Plot cost at each iteration for gradient Descent\n",
        "import matplotlib.pyplot as plt\n",
        "plt.plot(range(0, 200), arr)\n"
      ],
      "metadata": {
        "colab": {
          "base_uri": "https://localhost:8080/",
          "height": 285
        },
        "id": "xyprwgCqzrss",
        "outputId": "e02e1732-e5ee-4d4c-cfb8-35a07f59d8a7"
      },
      "execution_count": 7,
      "outputs": [
        {
          "output_type": "execute_result",
          "data": {
            "text/plain": [
              "[<matplotlib.lines.Line2D at 0x7f65d98a3710>]"
            ]
          },
          "metadata": {},
          "execution_count": 7
        },
        {
          "output_type": "display_data",
          "data": {
            "image/png": "[encoded data removed]",
            "text/plain": [
              "<Figure size 432x288 with 1 Axes>"
            ]
          },
          "metadata": {
            "needs_background": "light"
          }
        }
      ]
    },
    {
      "cell_type": "code",
      "source": [
        "# Test our model and print accuracy(in %)\n",
        "pred = classifier.predict(np.array(X_test))\n",
        "accuracy = classifier.accuracy(y_test, pred)\n",
        "accuracy"
      ],
      "metadata": {
        "colab": {
          "base_uri": "https://localhost:8080/"
        },
        "id": "y_3wVGQQlBp-",
        "outputId": "1ab28824-33f9-4a3b-9d20-b9138bcac1c6"
      },
      "execution_count": 8,
      "outputs": [
        {
          "output_type": "execute_result",
          "data": {
            "text/plain": [
              "98.40194417851093"
            ]
          },
          "metadata": {},
          "execution_count": 8
        }
      ]
    },
    {
      "cell_type": "code",
      "source": [
        "# Using sklearn to train model and compare with custom model\n",
        "from sklearn.linear_model import LogisticRegression\n",
        "regr = LogisticRegression()"
      ],
      "metadata": {
        "id": "P-lP7yaZlq63"
      },
      "execution_count": 35,
      "outputs": []
    },
    {
      "cell_type": "code",
      "source": [
        "regr.fit(X_train, y_train)\n",
        "predsk = regr.predict(X_test)"
      ],
      "metadata": {
        "colab": {
          "base_uri": "https://localhost:8080/"
        },
        "id": "hA2I9OXn2Weo",
        "outputId": "87383b0b-fcc5-48fe-9c68-ee65a2c5e02f"
      },
      "execution_count": 36,
      "outputs": [
        {
          "output_type": "stream",
          "name": "stderr",
          "text": [
            "/usr/local/lib/python3.7/dist-packages/sklearn/utils/validation.py:985: DataConversionWarning: A column-vector y was passed when a 1d array was expected. Please change the shape of y to (n_samples, ), for example using ravel().\n",
            "  y = column_or_1d(y, warn=True)\n",
            "/usr/local/lib/python3.7/dist-packages/sklearn/linear_model/_logistic.py:818: ConvergenceWarning: lbfgs failed to converge (status=1):\n",
            "STOP: TOTAL NO. of ITERATIONS REACHED LIMIT.\n",
            "\n",
            "Increase the number of iterations (max_iter) or scale the data as shown in:\n",
            "    https://scikit-learn.org/stable/modules/preprocessing.html\n",
            "Please also refer to the documentation for alternative solver options:\n",
            "    https://scikit-learn.org/stable/modules/linear_model.html#logistic-regression\n",
            "  extra_warning_msg=_LOGISTIC_SOLVER_CONVERGENCE_MSG,\n"
          ]
        }
      ]
    },
    {
      "cell_type": "code",
      "source": [
        "from sklearn.metrics import classification_report\n",
        "print(classification_report(y_test, predsk))"
      ],
      "metadata": {
        "colab": {
          "base_uri": "https://localhost:8080/"
        },
        "id": "z8aiD1Fr2wyH",
        "outputId": "51be30f3-f00a-4da7-8a19-0c2f661ea9bc"
      },
      "execution_count": 98,
      "outputs": [
        {
          "output_type": "stream",
          "name": "stdout",
          "text": [
            "              precision    recall  f1-score   support\n",
            "\n",
            "           0       0.99      0.98      0.99      7250\n",
            "           1       0.98      0.99      0.98      6329\n",
            "\n",
            "    accuracy                           0.98     13579\n",
            "   macro avg       0.98      0.99      0.98     13579\n",
            "weighted avg       0.98      0.98      0.98     13579\n",
            "\n"
          ]
        }
      ]
    },
    {
      "cell_type": "code",
      "source": [
        "def accuracy( y, y_hat):  \n",
        "        p = 0\n",
        "        for i in range(0,len(y)):\n",
        "            if y[i] == y_hat[i]:\n",
        "                p += 1\n",
        "        acc = p / len(y)\n",
        "        return acc * 100  \n",
        "accuracy(y_test, predsk)"
      ],
      "metadata": {
        "colab": {
          "base_uri": "https://localhost:8080/"
        },
        "id": "546jUnr_3aAl",
        "outputId": "a355aae0-3849-4e1b-a19e-a9b499dbb115"
      },
      "execution_count": 37,
      "outputs": [
        {
          "output_type": "execute_result",
          "data": {
            "text/plain": [
              "98.54923042933942"
            ]
          },
          "metadata": {},
          "execution_count": 37
        }
      ]
    },
    {
      "cell_type": "code",
      "source": [
        "import joblib\n",
        "\n",
        "joblib.dump(classifier, 'classifier.pkl')\n"
      ],
      "metadata": {
        "colab": {
          "base_uri": "https://localhost:8080/"
        },
        "id": "gsd5-XLPD6pU",
        "outputId": "a8f1623e-3286-4e14-909a-d57442345c2d"
      },
      "execution_count": 9,
      "outputs": [
        {
          "output_type": "execute_result",
          "data": {
            "text/plain": [
              "['classifier.pkl']"
            ]
          },
          "metadata": {},
          "execution_count": 9
        }
      ]
    },
    {
      "cell_type": "code",
      "source": [
        "from PIL import Image\n",
        "img = Image.open(r\"apple.jpg\")\n",
        "flatimg = np.reshape(img, (1, 784))"
      ],
      "metadata": {
        "id": "YdN7G3hmEnbK"
      },
      "execution_count": 45,
      "outputs": []
    },
    {
      "cell_type": "code",
      "source": [
        "plt.imshow(img, interpolation='nearest')\n",
        "plt.show()"
      ],
      "metadata": {
        "colab": {
          "base_uri": "https://localhost:8080/",
          "height": 265
        },
        "id": "CYjSOT5ZP_sD",
        "outputId": "c1832960-e6bc-4151-e3ad-ede89294a90e"
      },
      "execution_count": 46,
      "outputs": [
        {
          "output_type": "display_data",
          "data": {
            "image/png": "[encoded data removed]",
            "text/plain": [
              "<Figure size 432x288 with 1 Axes>"
            ]
          },
          "metadata": {
            "needs_background": "light"
          }
        }
      ]
    },
    {
      "cell_type": "code",
      "source": [
        "classifier.predict(flatimg)"
      ],
      "metadata": {
        "colab": {
          "base_uri": "https://localhost:8080/"
        },
        "id": "6wYtWEZeE-Y9",
        "outputId": "569d8f9c-ebba-4e1f-fa9d-263410e723e1"
      },
      "execution_count": 47,
      "outputs": [
        {
          "output_type": "execute_result",
          "data": {
            "text/plain": [
              "array([[0.]])"
            ]
          },
          "metadata": {},
          "execution_count": 47
        }
      ]
    },
    {
      "cell_type": "code",
      "source": [
        "from PIL import Image\n",
        "img = Image.open(r\"rainbow.jpg\")\n",
        "flatimg = np.reshape(img, (1, 784))\n",
        "flatimg = scaler.transform(flatimg)"
      ],
      "metadata": {
        "id": "8nl-CBFSQo4l"
      },
      "execution_count": 62,
      "outputs": []
    },
    {
      "cell_type": "code",
      "source": [
        "plt.imshow(img, interpolation='nearest')\n",
        "plt.show()"
      ],
      "metadata": {
        "colab": {
          "base_uri": "https://localhost:8080/",
          "height": 265
        },
        "id": "3HpCQI79QqWM",
        "outputId": "3392a503-5a3f-48b4-b1ac-86e4c6d714a0"
      },
      "execution_count": 63,
      "outputs": [
        {
          "output_type": "display_data",
          "data": {
            "image/png": "[encoded data removed]",
            "text/plain": [
              "<Figure size 432x288 with 1 Axes>"
            ]
          },
          "metadata": {
            "needs_background": "light"
          }
        }
      ]
    },
    {
      "cell_type": "code",
      "source": [
        "classifier.predict(flatimg)"
      ],
      "metadata": {
        "colab": {
          "base_uri": "https://localhost:8080/"
        },
        "id": "Ecs4MXNHQr_d",
        "outputId": "4077a1c8-985b-4820-aa2f-0db8132eba3e"
      },
      "execution_count": 66,
      "outputs": [
        {
          "output_type": "execute_result",
          "data": {
            "text/plain": [
              "array([[0.]])"
            ]
          },
          "metadata": {},
          "execution_count": 66
        }
      ]
    }
  ]
}